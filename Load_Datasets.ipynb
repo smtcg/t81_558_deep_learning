{
  "nbformat": 4,
  "nbformat_minor": 0,
  "metadata": {
    "colab": {
      "name": "Load Datasets.ipynb",
      "provenance": [],
      "collapsed_sections": [],
      "authorship_tag": "ABX9TyPlxxY1T+PY5Q0Ye5+q8QMm",
      "include_colab_link": true
    },
    "kernelspec": {
      "name": "python3",
      "display_name": "Python 3"
    },
    "language_info": {
      "name": "python"
    },
    "accelerator": "GPU"
  },
  "cells": [
    {
      "cell_type": "markdown",
      "metadata": {
        "id": "view-in-github",
        "colab_type": "text"
      },
      "source": [
        "<a href=\"https://colab.research.google.com/github/smtcg/t81_558_deep_learning/blob/master/Load_Datasets.ipynb\" target=\"_parent\"><img src=\"https://colab.research.google.com/assets/colab-badge.svg\" alt=\"Open In Colab\"/></a>"
      ]
    },
    {
      "cell_type": "code",
      "execution_count": 3,
      "metadata": {
        "colab": {
          "base_uri": "https://localhost:8080/"
        },
        "id": "a5SHkhJ5rlTz",
        "outputId": "a3280c15-2d10-4eff-b9cb-0fd8ed09ba91"
      },
      "outputs": [
        {
          "output_type": "stream",
          "name": "stdout",
          "text": [
            "Drive already mounted at /content/gdrive; to attempt to forcibly remount, call drive.mount(\"/content/gdrive\", force_remount=True).\n"
          ]
        }
      ],
      "source": [
        "from pandas import read_csv\n",
        "from google.colab import drive\n",
        "drive.mount(\"/content/gdrive\")\n",
        "from matplotlib import pyplot \n",
        "\n",
        "\n",
        "url = \"/content/gdrive/My Drive/iris.csv\"\n",
        "names = [ \"sepal-length\",\n",
        "         \"sepal-width\",\n",
        "         \"petal-length\",\n",
        "         \"petal-width\",\n",
        "         \"class\"]\n",
        "\n",
        "dataset =  read_csv(url, names = names)\n",
        "\n",
        "#print(dataset.describe())\n",
        "#print(dataset.shape)\n",
        "#print(dataset.groupby(\"class\").size())\n",
        "\n",
        " "
      ]
    },
    {
      "cell_type": "code",
      "source": [
        "dataset.plot(kind     = \"box\",\n",
        "             subplots = True,\n",
        "             layout   = (2,2),\n",
        "             sharex   = False,\n",
        "             sharey   = False)\n",
        "pyplot.show()"
      ],
      "metadata": {
        "id": "j_ZMdA0EN_gJ"
      },
      "execution_count": null,
      "outputs": []
    },
    {
      "cell_type": "code",
      "source": [
        "dataset.hist()\n",
        "pyplot.show()"
      ],
      "metadata": {
        "id": "Dh13kJHsQNG3"
      },
      "execution_count": null,
      "outputs": []
    },
    {
      "cell_type": "code",
      "source": [
        "import pandas as pd \n",
        "from google.colab import drive\n",
        "drive.mount(\"/content/gdrive\")\n",
        "from sklearn.model_selection import train_test_split\n",
        "from sklearn.tree import DecisionTreeClassifier\n",
        "\n",
        "dataset = pd.read_csv(\"/content/gdrive/My Drive/\" + \"animals.csv\")\n",
        "\n",
        "targets  = dataset[\"name\"] # that is what are we trying to predict \n",
        "features = dataset.drop(\"name\", axis = 1) #the rest of the dataset \n",
        "\n",
        "train_features, test_features, train_targets, test_targets = \\\n",
        "train_test_split(features, targets, train_size = 0.75) # using sklearn library to split our data for testing and training \n",
        "\n",
        "tree = DecisionTreeClassifier(criterion = \"entropy\",\n",
        "                              max_depth = 5)# using decision tree classifier , building our model going down \n",
        "tree = tree.fit(train_features, train_targets) # training our data \n",
        "\n",
        "features = {\n",
        "    \"fur\":    1,\n",
        "     \"wings\": 0,\n",
        "     \"gills\": 0,\n",
        "     \"teeth\": 1,\n",
        "     \"beak\" : 0,\n",
        "     \"number of legs\": 3,\n",
        "     \"fangs\" : 1\n",
        "    \n",
        "}\n",
        "\n",
        "\n",
        "features = pd.DataFrame([features], columns= train_features.columns)\n",
        "predition = tree.predict(features)[0]\n",
        "\n",
        "print(predition)\n"
      ],
      "metadata": {
        "colab": {
          "base_uri": "https://localhost:8080/"
        },
        "id": "XW67amfvgolI",
        "outputId": "59e7d8e5-65ef-4227-cad3-330248c4a449"
      },
      "execution_count": 7,
      "outputs": [
        {
          "output_type": "stream",
          "name": "stdout",
          "text": [
            "Drive already mounted at /content/gdrive; to attempt to forcibly remount, call drive.mount(\"/content/gdrive\", force_remount=True).\n",
            "spider\n"
          ]
        }
      ]
    },
    {
      "cell_type": "code",
      "source": [
        "from google.colab import drive\n",
        "drive.mount(\"/content/gdrive\")\n",
        "\n",
        "import pandas as pd \n",
        "\n",
        "from sklearn.model_selection import train_test_split\n",
        "from sklearn.preprocessing   import StandardScaler\n",
        "from sklearn.neural_network  import MLPClassifier \n",
        "from sklearn.metrics         import confusion_matrix\n",
        "\n",
        "\n",
        "destination_filename = \"/content/gdrive/My Drive/\" + \"player_data.csv\"\n",
        "\n",
        "\n",
        "players = pd.read_csv(destination_filename, \n",
        "                      names = [\"Team\",\n",
        "                               \"Wins\",\n",
        "                               \"Loses\",\n",
        "                               \"Coins Collected\",\n",
        "                               \"Quests\",\n",
        "                               \"Red Color \",\n",
        "                               \"Armor Lost\",\n",
        "                               \"Fans\",\n",
        "                               \"Mentions\",\n",
        "                               \"Days On Team\",\n",
        "                               \"Timeouts\",\n",
        "                               \"Blue Color\",\n",
        "                                \"Green Color\"])\n",
        "\n",
        "players.head()\n",
        "players.shape\n",
        "players.describe().transpose()\n",
        "\n",
        "x = players.drop(\"Team\", axis=1)\n",
        "y = players[\"Team\"]\n",
        "y=y.astype('int') \n",
        "x_train, x_test, y_train, y_test = train_test_split(x, y)\n",
        "\n",
        "\n",
        "scaler = StandardScaler()\n",
        "\n",
        "scaler.fit(x_train)\n",
        "\n",
        "StandardScaler(copy = True, with_mean = True, with_std = True)\n",
        "\n",
        "\n",
        "x_train = scaler.transform(x_train)\n",
        "x_test = scaler.transform(x_test)\n",
        "\n",
        "mlp = MLPClassifier(hidden_layer_sizes=(13,13,13), max_iter= 400)\n",
        "mlp.fit(x_train, y_train)\n",
        "\n",
        "\n",
        "\n",
        "\n"
      ],
      "metadata": {
        "colab": {
          "base_uri": "https://localhost:8080/"
        },
        "id": "bBNowoTRQNwN",
        "outputId": "f1671f11-fdb0-441d-f7a6-3ada3eaf0262"
      },
      "execution_count": 1,
      "outputs": [
        {
          "output_type": "stream",
          "name": "stdout",
          "text": [
            "Mounted at /content/gdrive\n"
          ]
        },
        {
          "output_type": "stream",
          "name": "stderr",
          "text": [
            "/usr/local/lib/python3.7/dist-packages/sklearn/neural_network/_multilayer_perceptron.py:696: ConvergenceWarning: Stochastic Optimizer: Maximum iterations (400) reached and the optimization hasn't converged yet.\n",
            "  ConvergenceWarning,\n"
          ]
        },
        {
          "output_type": "execute_result",
          "data": {
            "text/plain": [
              "MLPClassifier(hidden_layer_sizes=(13, 13, 13), max_iter=400)"
            ]
          },
          "metadata": {},
          "execution_count": 1
        }
      ]
    }
  ]
}